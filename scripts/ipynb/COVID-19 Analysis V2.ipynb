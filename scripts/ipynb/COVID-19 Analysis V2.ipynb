{
 "cells": [
  {
   "cell_type": "markdown",
   "metadata": {},
   "source": [
    "#### How to import kaggle data sets to Python:\n",
    "\n",
    "Source: [medium.com/@jeff.daniel77](https://medium.com/@jeff.daniel77/accessing-the-kaggle-com-api-with-jupyter-notebook-on-windows-d6f330bc6953) "
   ]
  },
  {
   "cell_type": "code",
   "execution_count": 5,
   "metadata": {},
   "outputs": [
    {
     "name": "stdout",
     "output_type": "stream",
     "text": [
      "Collecting kaggleNote: you may need to restart the kernel to use updated packages.\n",
      "  Downloading kaggle-1.5.9.tar.gz (58 kB)\n",
      "Requirement already satisfied: six>=1.10 in c:\\programfiles\\lib\\site-packages (from kaggle) (1.15.0)\n",
      "Requirement already satisfied: certifi in c:\\programfiles\\lib\\site-packages (from kaggle) (2020.6.20)\n",
      "Requirement already satisfied: python-dateutil in c:\\programfiles\\lib\\site-packages (from kaggle) (2.8.1)\n",
      "Requirement already satisfied: requests in c:\\programfiles\\lib\\site-packages (from kaggle) (2.24.0)\n",
      "Requirement already satisfied: tqdm in c:\\programfiles\\lib\\site-packages (from kaggle) (4.47.0)\n",
      "Collecting python-slugify\n",
      "  Downloading python-slugify-4.0.1.tar.gz (11 kB)\n",
      "Collecting slugify\n",
      "  Downloading slugify-0.0.1.tar.gz (1.2 kB)\n",
      "Requirement already satisfied: urllib3 in c:\\programfiles\\lib\\site-packages (from kaggle) (1.25.9)\n",
      "Requirement already satisfied: idna<3,>=2.5 in c:\\programfiles\\lib\\site-packages (from requests->kaggle) (2.10)\n",
      "Requirement already satisfied: chardet<4,>=3.0.2 in c:\\programfiles\\lib\\site-packages (from requests->kaggle) (3.0.4)\n",
      "Collecting text-unidecode>=1.3\n",
      "  Using cached text_unidecode-1.3-py2.py3-none-any.whl (78 kB)\n",
      "Building wheels for collected packages: kaggle, python-slugify, slugify\n",
      "  Building wheel for kaggle (setup.py): started\n",
      "  Building wheel for kaggle (setup.py): finished with status 'done'\n",
      "  Created wheel for kaggle: filename=kaggle-1.5.9-py3-none-any.whl size=73270 sha256=da6f063a80fb27e4c56e88ead54f9066939d23e0b40c9a67f95cc08113d08910\n",
      "  Stored in directory: c:\\users\\fsalinas\\appdata\\local\\pip\\cache\\wheels\\ed\\bd\\77\\e12cac6080de7e1185049bbfb87c7f250d74fd4f9389af0c9c\n",
      "  Building wheel for python-slugify (setup.py): started\n",
      "  Building wheel for python-slugify (setup.py): finished with status 'done'\n",
      "  Created wheel for python-slugify: filename=python_slugify-4.0.1-py2.py3-none-any.whl size=6774 sha256=0c6a5163f2d2a91a5b6df5daee35fb7a5966acb36eeb31d4376b2167ee673f5a\n",
      "  Stored in directory: c:\\users\\fsalinas\\appdata\\local\\pip\\cache\\wheels\\91\\4d\\4f\\e740a68c215791688c46c4d6251770a570e8dfea91af1acb5c\n",
      "  Building wheel for slugify (setup.py): started\n",
      "  Building wheel for slugify (setup.py): finished with status 'done'\n",
      "  Created wheel for slugify: filename=slugify-0.0.1-py3-none-any.whl size=1914 sha256=b95e3e82fdb1cedd1b43805d13c9f193b929d904421db367710da2429799bff3\n",
      "  Stored in directory: c:\\users\\fsalinas\\appdata\\local\\pip\\cache\\wheels\\a2\\49\\ff\\b5d3130b393f908f0faebf7b4069b259e97d23821826553a76\n",
      "Successfully built kaggle python-slugify slugify\n",
      "Installing collected packages: text-unidecode, python-slugify, slugify, kaggle\n",
      "Successfully installed kaggle-1.5.9 python-slugify-4.0.1 slugify-0.0.1 text-unidecode-1.3\n",
      "\n"
     ]
    },
    {
     "name": "stderr",
     "output_type": "stream",
     "text": [
      "  WARNING: The script slugify.exe is installed in 'C:\\Users\\Fsalinas\\AppData\\Roaming\\Python\\Python38\\Scripts' which is not on PATH.\n",
      "  Consider adding this directory to PATH or, if you prefer to suppress this warning, use --no-warn-script-location.\n",
      "  WARNING: The script kaggle.exe is installed in 'C:\\Users\\Fsalinas\\AppData\\Roaming\\Python\\Python38\\Scripts' which is not on PATH.\n",
      "  Consider adding this directory to PATH or, if you prefer to suppress this warning, use --no-warn-script-location.\n"
     ]
    }
   ],
   "source": [
    "pip install --user kaggle"
   ]
  },
  {
   "cell_type": "code",
   "execution_count": 7,
   "metadata": {},
   "outputs": [
    {
     "ename": "ModuleNotFoundError",
     "evalue": "No module named 'kaggle'",
     "output_type": "error",
     "traceback": [
      "\u001b[1;31m---------------------------------------------------------------------------\u001b[0m",
      "\u001b[1;31mModuleNotFoundError\u001b[0m                       Traceback (most recent call last)",
      "\u001b[1;32m<ipython-input-7-2e5e3441a2d1>\u001b[0m in \u001b[0;36m<module>\u001b[1;34m\u001b[0m\n\u001b[1;32m----> 1\u001b[1;33m \u001b[1;32mimport\u001b[0m \u001b[0mkaggle\u001b[0m\u001b[1;33m\u001b[0m\u001b[1;33m\u001b[0m\u001b[0m\n\u001b[0m",
      "\u001b[1;31mModuleNotFoundError\u001b[0m: No module named 'kaggle'"
     ]
    }
   ],
   "source": [
    "import kaggle"
   ]
  },
  {
   "cell_type": "code",
   "execution_count": 8,
   "metadata": {},
   "outputs": [
    {
     "name": "stderr",
     "output_type": "stream",
     "text": [
      "\"kaggle\" no se reconoce como un comando interno o externo,\n",
      "programa o archivo por lotes ejecutable.\n"
     ]
    }
   ],
   "source": [
    "!kaggle datasets download -d imdevskp/corona-virus-report"
   ]
  },
  {
   "cell_type": "markdown",
   "metadata": {},
   "source": [
    "#### Unzip downloaded files\n",
    "\n",
    "Source: [geeksforgeeks.org/working-zip-files-python](https://www.geeksforgeeks.org/working-zip-files-python/)"
   ]
  },
  {
   "cell_type": "code",
   "execution_count": 511,
   "metadata": {},
   "outputs": [
    {
     "name": "stdout",
     "output_type": "stream",
     "text": [
      "File Name                                             Modified             Size\n",
      "covid_19_clean_complete.csv                    2020-05-01 05:55:50      1202866\n",
      "usa_county_wise.csv                            2020-05-01 05:55:50     36479869\n",
      "Extracting all the files now...\n",
      "Done!\n"
     ]
    }
   ],
   "source": [
    "from zipfile import ZipFile\n",
    "file_name = \"corona-virus-report.zip\"\n",
    "\n",
    "with ZipFile(file_name, 'r') as zip: \n",
    "    zip.printdir() \n",
    "  \n",
    "    print('Extracting all the files now...') \n",
    "    zip.extractall() \n",
    "    print('Done!') "
   ]
  },
  {
   "cell_type": "code",
   "execution_count": 10,
   "metadata": {},
   "outputs": [],
   "source": [
    "mp = r'C:\\Users\\Fsalinas\\Documents\\GitHub\\TDS_Tutorials'"
   ]
  },
  {
   "cell_type": "code",
   "execution_count": 11,
   "metadata": {},
   "outputs": [
    {
     "ename": "FileNotFoundError",
     "evalue": "[Errno 2] File C:\\Users\\Fsalinas\\Documents\\GitHub\\TDS_Tutorials\\covid_19_clean_complete.csv does not exist: 'C:\\\\Users\\\\Fsalinas\\\\Documents\\\\GitHub\\\\TDS_Tutorials\\\\covid_19_clean_complete.csv'",
     "output_type": "error",
     "traceback": [
      "\u001b[1;31m---------------------------------------------------------------------------\u001b[0m",
      "\u001b[1;31mFileNotFoundError\u001b[0m                         Traceback (most recent call last)",
      "\u001b[1;32m<ipython-input-11-4cbfb2330c7b>\u001b[0m in \u001b[0;36m<module>\u001b[1;34m\u001b[0m\n\u001b[0;32m      1\u001b[0m \u001b[1;32mimport\u001b[0m \u001b[0mpandas\u001b[0m \u001b[1;32mas\u001b[0m \u001b[0mpd\u001b[0m\u001b[1;33m\u001b[0m\u001b[1;33m\u001b[0m\u001b[0m\n\u001b[1;32m----> 2\u001b[1;33m \u001b[0mdf\u001b[0m \u001b[1;33m=\u001b[0m \u001b[0mpd\u001b[0m\u001b[1;33m.\u001b[0m\u001b[0mread_csv\u001b[0m\u001b[1;33m(\u001b[0m\u001b[0mmp\u001b[0m \u001b[1;33m+\u001b[0m \u001b[1;34mr'\\covid_19_clean_complete.csv'\u001b[0m\u001b[1;33m)\u001b[0m\u001b[1;33m\u001b[0m\u001b[1;33m\u001b[0m\u001b[0m\n\u001b[0m\u001b[0;32m      3\u001b[0m \u001b[0mdf\u001b[0m\u001b[1;33m[\u001b[0m\u001b[1;34m'Date'\u001b[0m\u001b[1;33m]\u001b[0m \u001b[1;33m=\u001b[0m \u001b[0mpd\u001b[0m\u001b[1;33m.\u001b[0m\u001b[0mto_datetime\u001b[0m\u001b[1;33m(\u001b[0m\u001b[0mdf\u001b[0m\u001b[1;33m[\u001b[0m\u001b[1;34m'Date'\u001b[0m\u001b[1;33m]\u001b[0m\u001b[1;33m)\u001b[0m\u001b[1;33m\u001b[0m\u001b[1;33m\u001b[0m\u001b[0m\n\u001b[0;32m      4\u001b[0m \u001b[0mprint\u001b[0m\u001b[1;33m(\u001b[0m\u001b[0mdf\u001b[0m\u001b[1;33m.\u001b[0m\u001b[0mshape\u001b[0m\u001b[1;33m,\u001b[0m \u001b[1;34m'\\n'\u001b[0m\u001b[1;33m)\u001b[0m\u001b[1;33m\u001b[0m\u001b[1;33m\u001b[0m\u001b[0m\n\u001b[0;32m      5\u001b[0m \u001b[0mprint\u001b[0m\u001b[1;33m(\u001b[0m\u001b[0mdf\u001b[0m\u001b[1;33m.\u001b[0m\u001b[0minfo\u001b[0m\u001b[1;33m(\u001b[0m\u001b[1;33m)\u001b[0m\u001b[1;33m,\u001b[0m \u001b[1;34m'\\n'\u001b[0m\u001b[1;33m)\u001b[0m\u001b[1;33m\u001b[0m\u001b[1;33m\u001b[0m\u001b[0m\n",
      "\u001b[1;32mC:\\ProgramFiles\\lib\\site-packages\\pandas\\io\\parsers.py\u001b[0m in \u001b[0;36mparser_f\u001b[1;34m(filepath_or_buffer, sep, delimiter, header, names, index_col, usecols, squeeze, prefix, mangle_dupe_cols, dtype, engine, converters, true_values, false_values, skipinitialspace, skiprows, skipfooter, nrows, na_values, keep_default_na, na_filter, verbose, skip_blank_lines, parse_dates, infer_datetime_format, keep_date_col, date_parser, dayfirst, cache_dates, iterator, chunksize, compression, thousands, decimal, lineterminator, quotechar, quoting, doublequote, escapechar, comment, encoding, dialect, error_bad_lines, warn_bad_lines, delim_whitespace, low_memory, memory_map, float_precision)\u001b[0m\n\u001b[0;32m    674\u001b[0m         )\n\u001b[0;32m    675\u001b[0m \u001b[1;33m\u001b[0m\u001b[0m\n\u001b[1;32m--> 676\u001b[1;33m         \u001b[1;32mreturn\u001b[0m \u001b[0m_read\u001b[0m\u001b[1;33m(\u001b[0m\u001b[0mfilepath_or_buffer\u001b[0m\u001b[1;33m,\u001b[0m \u001b[0mkwds\u001b[0m\u001b[1;33m)\u001b[0m\u001b[1;33m\u001b[0m\u001b[1;33m\u001b[0m\u001b[0m\n\u001b[0m\u001b[0;32m    677\u001b[0m \u001b[1;33m\u001b[0m\u001b[0m\n\u001b[0;32m    678\u001b[0m     \u001b[0mparser_f\u001b[0m\u001b[1;33m.\u001b[0m\u001b[0m__name__\u001b[0m \u001b[1;33m=\u001b[0m \u001b[0mname\u001b[0m\u001b[1;33m\u001b[0m\u001b[1;33m\u001b[0m\u001b[0m\n",
      "\u001b[1;32mC:\\ProgramFiles\\lib\\site-packages\\pandas\\io\\parsers.py\u001b[0m in \u001b[0;36m_read\u001b[1;34m(filepath_or_buffer, kwds)\u001b[0m\n\u001b[0;32m    446\u001b[0m \u001b[1;33m\u001b[0m\u001b[0m\n\u001b[0;32m    447\u001b[0m     \u001b[1;31m# Create the parser.\u001b[0m\u001b[1;33m\u001b[0m\u001b[1;33m\u001b[0m\u001b[1;33m\u001b[0m\u001b[0m\n\u001b[1;32m--> 448\u001b[1;33m     \u001b[0mparser\u001b[0m \u001b[1;33m=\u001b[0m \u001b[0mTextFileReader\u001b[0m\u001b[1;33m(\u001b[0m\u001b[0mfp_or_buf\u001b[0m\u001b[1;33m,\u001b[0m \u001b[1;33m**\u001b[0m\u001b[0mkwds\u001b[0m\u001b[1;33m)\u001b[0m\u001b[1;33m\u001b[0m\u001b[1;33m\u001b[0m\u001b[0m\n\u001b[0m\u001b[0;32m    449\u001b[0m \u001b[1;33m\u001b[0m\u001b[0m\n\u001b[0;32m    450\u001b[0m     \u001b[1;32mif\u001b[0m \u001b[0mchunksize\u001b[0m \u001b[1;32mor\u001b[0m \u001b[0miterator\u001b[0m\u001b[1;33m:\u001b[0m\u001b[1;33m\u001b[0m\u001b[1;33m\u001b[0m\u001b[0m\n",
      "\u001b[1;32mC:\\ProgramFiles\\lib\\site-packages\\pandas\\io\\parsers.py\u001b[0m in \u001b[0;36m__init__\u001b[1;34m(self, f, engine, **kwds)\u001b[0m\n\u001b[0;32m    878\u001b[0m             \u001b[0mself\u001b[0m\u001b[1;33m.\u001b[0m\u001b[0moptions\u001b[0m\u001b[1;33m[\u001b[0m\u001b[1;34m\"has_index_names\"\u001b[0m\u001b[1;33m]\u001b[0m \u001b[1;33m=\u001b[0m \u001b[0mkwds\u001b[0m\u001b[1;33m[\u001b[0m\u001b[1;34m\"has_index_names\"\u001b[0m\u001b[1;33m]\u001b[0m\u001b[1;33m\u001b[0m\u001b[1;33m\u001b[0m\u001b[0m\n\u001b[0;32m    879\u001b[0m \u001b[1;33m\u001b[0m\u001b[0m\n\u001b[1;32m--> 880\u001b[1;33m         \u001b[0mself\u001b[0m\u001b[1;33m.\u001b[0m\u001b[0m_make_engine\u001b[0m\u001b[1;33m(\u001b[0m\u001b[0mself\u001b[0m\u001b[1;33m.\u001b[0m\u001b[0mengine\u001b[0m\u001b[1;33m)\u001b[0m\u001b[1;33m\u001b[0m\u001b[1;33m\u001b[0m\u001b[0m\n\u001b[0m\u001b[0;32m    881\u001b[0m \u001b[1;33m\u001b[0m\u001b[0m\n\u001b[0;32m    882\u001b[0m     \u001b[1;32mdef\u001b[0m \u001b[0mclose\u001b[0m\u001b[1;33m(\u001b[0m\u001b[0mself\u001b[0m\u001b[1;33m)\u001b[0m\u001b[1;33m:\u001b[0m\u001b[1;33m\u001b[0m\u001b[1;33m\u001b[0m\u001b[0m\n",
      "\u001b[1;32mC:\\ProgramFiles\\lib\\site-packages\\pandas\\io\\parsers.py\u001b[0m in \u001b[0;36m_make_engine\u001b[1;34m(self, engine)\u001b[0m\n\u001b[0;32m   1112\u001b[0m     \u001b[1;32mdef\u001b[0m \u001b[0m_make_engine\u001b[0m\u001b[1;33m(\u001b[0m\u001b[0mself\u001b[0m\u001b[1;33m,\u001b[0m \u001b[0mengine\u001b[0m\u001b[1;33m=\u001b[0m\u001b[1;34m\"c\"\u001b[0m\u001b[1;33m)\u001b[0m\u001b[1;33m:\u001b[0m\u001b[1;33m\u001b[0m\u001b[1;33m\u001b[0m\u001b[0m\n\u001b[0;32m   1113\u001b[0m         \u001b[1;32mif\u001b[0m \u001b[0mengine\u001b[0m \u001b[1;33m==\u001b[0m \u001b[1;34m\"c\"\u001b[0m\u001b[1;33m:\u001b[0m\u001b[1;33m\u001b[0m\u001b[1;33m\u001b[0m\u001b[0m\n\u001b[1;32m-> 1114\u001b[1;33m             \u001b[0mself\u001b[0m\u001b[1;33m.\u001b[0m\u001b[0m_engine\u001b[0m \u001b[1;33m=\u001b[0m \u001b[0mCParserWrapper\u001b[0m\u001b[1;33m(\u001b[0m\u001b[0mself\u001b[0m\u001b[1;33m.\u001b[0m\u001b[0mf\u001b[0m\u001b[1;33m,\u001b[0m \u001b[1;33m**\u001b[0m\u001b[0mself\u001b[0m\u001b[1;33m.\u001b[0m\u001b[0moptions\u001b[0m\u001b[1;33m)\u001b[0m\u001b[1;33m\u001b[0m\u001b[1;33m\u001b[0m\u001b[0m\n\u001b[0m\u001b[0;32m   1115\u001b[0m         \u001b[1;32melse\u001b[0m\u001b[1;33m:\u001b[0m\u001b[1;33m\u001b[0m\u001b[1;33m\u001b[0m\u001b[0m\n\u001b[0;32m   1116\u001b[0m             \u001b[1;32mif\u001b[0m \u001b[0mengine\u001b[0m \u001b[1;33m==\u001b[0m \u001b[1;34m\"python\"\u001b[0m\u001b[1;33m:\u001b[0m\u001b[1;33m\u001b[0m\u001b[1;33m\u001b[0m\u001b[0m\n",
      "\u001b[1;32mC:\\ProgramFiles\\lib\\site-packages\\pandas\\io\\parsers.py\u001b[0m in \u001b[0;36m__init__\u001b[1;34m(self, src, **kwds)\u001b[0m\n\u001b[0;32m   1889\u001b[0m         \u001b[0mkwds\u001b[0m\u001b[1;33m[\u001b[0m\u001b[1;34m\"usecols\"\u001b[0m\u001b[1;33m]\u001b[0m \u001b[1;33m=\u001b[0m \u001b[0mself\u001b[0m\u001b[1;33m.\u001b[0m\u001b[0musecols\u001b[0m\u001b[1;33m\u001b[0m\u001b[1;33m\u001b[0m\u001b[0m\n\u001b[0;32m   1890\u001b[0m \u001b[1;33m\u001b[0m\u001b[0m\n\u001b[1;32m-> 1891\u001b[1;33m         \u001b[0mself\u001b[0m\u001b[1;33m.\u001b[0m\u001b[0m_reader\u001b[0m \u001b[1;33m=\u001b[0m \u001b[0mparsers\u001b[0m\u001b[1;33m.\u001b[0m\u001b[0mTextReader\u001b[0m\u001b[1;33m(\u001b[0m\u001b[0msrc\u001b[0m\u001b[1;33m,\u001b[0m \u001b[1;33m**\u001b[0m\u001b[0mkwds\u001b[0m\u001b[1;33m)\u001b[0m\u001b[1;33m\u001b[0m\u001b[1;33m\u001b[0m\u001b[0m\n\u001b[0m\u001b[0;32m   1892\u001b[0m         \u001b[0mself\u001b[0m\u001b[1;33m.\u001b[0m\u001b[0munnamed_cols\u001b[0m \u001b[1;33m=\u001b[0m \u001b[0mself\u001b[0m\u001b[1;33m.\u001b[0m\u001b[0m_reader\u001b[0m\u001b[1;33m.\u001b[0m\u001b[0munnamed_cols\u001b[0m\u001b[1;33m\u001b[0m\u001b[1;33m\u001b[0m\u001b[0m\n\u001b[0;32m   1893\u001b[0m \u001b[1;33m\u001b[0m\u001b[0m\n",
      "\u001b[1;32mpandas\\_libs\\parsers.pyx\u001b[0m in \u001b[0;36mpandas._libs.parsers.TextReader.__cinit__\u001b[1;34m()\u001b[0m\n",
      "\u001b[1;32mpandas\\_libs\\parsers.pyx\u001b[0m in \u001b[0;36mpandas._libs.parsers.TextReader._setup_parser_source\u001b[1;34m()\u001b[0m\n",
      "\u001b[1;31mFileNotFoundError\u001b[0m: [Errno 2] File C:\\Users\\Fsalinas\\Documents\\GitHub\\TDS_Tutorials\\covid_19_clean_complete.csv does not exist: 'C:\\\\Users\\\\Fsalinas\\\\Documents\\\\GitHub\\\\TDS_Tutorials\\\\covid_19_clean_complete.csv'"
     ]
    }
   ],
   "source": [
    "import pandas as pd\n",
    "df = pd.read_csv(mp + r'\\covid_19_clean_complete.csv')\n",
    "df['Date'] = pd.to_datetime(df['Date'])\n",
    "print(df.shape, '\\n')\n",
    "print(df.info(), '\\n')\n",
    "df.head(5)"
   ]
  },
  {
   "cell_type": "code",
   "execution_count": 12,
   "metadata": {},
   "outputs": [
    {
     "ename": "ModuleNotFoundError",
     "evalue": "No module named 'plotly'",
     "output_type": "error",
     "traceback": [
      "\u001b[1;31m---------------------------------------------------------------------------\u001b[0m",
      "\u001b[1;31mModuleNotFoundError\u001b[0m                       Traceback (most recent call last)",
      "\u001b[1;32m<ipython-input-12-c70657f5ef6f>\u001b[0m in \u001b[0;36m<module>\u001b[1;34m\u001b[0m\n\u001b[0;32m      1\u001b[0m \u001b[1;32mimport\u001b[0m \u001b[0mmatplotlib\u001b[0m\u001b[1;33m.\u001b[0m\u001b[0mpyplot\u001b[0m \u001b[1;32mas\u001b[0m \u001b[0mplt\u001b[0m\u001b[1;33m\u001b[0m\u001b[1;33m\u001b[0m\u001b[0m\n\u001b[1;32m----> 2\u001b[1;33m \u001b[1;32mimport\u001b[0m \u001b[0mplotly\u001b[0m\u001b[1;33m.\u001b[0m\u001b[0mexpress\u001b[0m \u001b[1;32mas\u001b[0m \u001b[0mpx\u001b[0m\u001b[1;33m\u001b[0m\u001b[1;33m\u001b[0m\u001b[0m\n\u001b[0m\u001b[0;32m      3\u001b[0m \u001b[1;32mimport\u001b[0m \u001b[0mplotly\u001b[0m\u001b[1;33m.\u001b[0m\u001b[0mgraph_objects\u001b[0m \u001b[1;32mas\u001b[0m \u001b[0mgo\u001b[0m\u001b[1;33m\u001b[0m\u001b[1;33m\u001b[0m\u001b[0m\n\u001b[0;32m      4\u001b[0m \u001b[1;32mimport\u001b[0m \u001b[0mipywidgets\u001b[0m \u001b[1;32mas\u001b[0m \u001b[0mwidgets\u001b[0m\u001b[1;33m\u001b[0m\u001b[1;33m\u001b[0m\u001b[0m\n\u001b[0;32m      5\u001b[0m \u001b[1;32mfrom\u001b[0m \u001b[0mipywidgets\u001b[0m \u001b[1;32mimport\u001b[0m \u001b[0minteract\u001b[0m\u001b[1;33m\u001b[0m\u001b[1;33m\u001b[0m\u001b[0m\n",
      "\u001b[1;31mModuleNotFoundError\u001b[0m: No module named 'plotly'"
     ]
    }
   ],
   "source": [
    "import matplotlib.pyplot as plt\n",
    "import plotly.express as px\n",
    "import plotly.graph_objects as go\n",
    "import ipywidgets as widgets\n",
    "from ipywidgets import interact\n",
    "%matplotlib inline"
   ]
  },
  {
   "cell_type": "code",
   "execution_count": 517,
   "metadata": {},
   "outputs": [
    {
     "data": {
      "application/vnd.jupyter.widget-view+json": {
       "model_id": "1b691d1f6d8d4b9e9a5c1cecaada8451",
       "version_major": 2,
       "version_minor": 0
      },
      "text/plain": [
       "interactive(children=(Dropdown(description='country', options=('Afghanistan', 'Albania', 'Algeria', 'Andorra',…"
      ]
     },
     "metadata": {},
     "output_type": "display_data"
    }
   ],
   "source": [
    "@interact\n",
    "def plot(country = opt):\n",
    "    tdf = df.sort_values(by = 'Date').groupby(['Date', 'Country/Region'],as_index = False).agg(\n",
    "        {'Confirmed':'sum', 'Deaths':'sum', 'Recovered':'sum'})\n",
    "    \n",
    "    fdf = tdf[tdf['Country/Region'] == country]\n",
    "    x = fdf['Date'].tolist()\n",
    "    y1 = fdf['Confirmed'].tolist()\n",
    "    y2 = fdf['Deaths'].tolist()\n",
    "    y3 = fdf['Recovered'].tolist()\n",
    "    fig = go.Figure()\n",
    "    \n",
    "    fig.add_trace(go.Scatter(x = x, y = y1, mode='lines', name='Confirmed'))\n",
    "    fig.add_trace(go.Scatter(x = x, y = y2, mode='lines', name='Deaths'))\n",
    "    fig.add_trace(go.Scatter(x = x, y = y3, mode='lines', name='Recovered'))\n",
    "    \n",
    "    fig.show()"
   ]
  },
  {
   "cell_type": "code",
   "execution_count": 165,
   "metadata": {},
   "outputs": [
    {
     "name": "stdout",
     "output_type": "stream",
     "text": [
      "len df: 26400\n",
      "len dim: 26400\n",
      "len fac: 26400\n",
      "len fac * 5: 132000\n",
      "len vertdf: 132000\n",
      "<class 'pandas.core.frame.DataFrame'>\n",
      "Int64Index: 132000 entries, 0 to 26399\n",
      "Data columns (total 4 columns):\n",
      " #   Column          Non-Null Count   Dtype         \n",
      "---  ------          --------------   -----         \n",
      " 0   Country/Region  132000 non-null  object        \n",
      " 1   Date            132000 non-null  datetime64[ns]\n",
      " 2   Measure         132000 non-null  object        \n",
      " 3   Value           132000 non-null  float64       \n",
      "dtypes: datetime64[ns](1), float64(1), object(2)\n",
      "memory usage: 5.0+ MB\n",
      "None\n"
     ]
    },
    {
     "data": {
      "text/html": [
       "<div>\n",
       "<style scoped>\n",
       "    .dataframe tbody tr th:only-of-type {\n",
       "        vertical-align: middle;\n",
       "    }\n",
       "\n",
       "    .dataframe tbody tr th {\n",
       "        vertical-align: top;\n",
       "    }\n",
       "\n",
       "    .dataframe thead th {\n",
       "        text-align: right;\n",
       "    }\n",
       "</style>\n",
       "<table border=\"1\" class=\"dataframe\">\n",
       "  <thead>\n",
       "    <tr style=\"text-align: right;\">\n",
       "      <th></th>\n",
       "      <th>Country/Region</th>\n",
       "      <th>Date</th>\n",
       "      <th>Measure</th>\n",
       "      <th>Value</th>\n",
       "    </tr>\n",
       "  </thead>\n",
       "  <tbody>\n",
       "    <tr>\n",
       "      <th>0</th>\n",
       "      <td>Afghanistan</td>\n",
       "      <td>2020-01-22</td>\n",
       "      <td>Confirmed</td>\n",
       "      <td>0.0</td>\n",
       "    </tr>\n",
       "    <tr>\n",
       "      <th>1</th>\n",
       "      <td>Albania</td>\n",
       "      <td>2020-01-22</td>\n",
       "      <td>Confirmed</td>\n",
       "      <td>0.0</td>\n",
       "    </tr>\n",
       "    <tr>\n",
       "      <th>2</th>\n",
       "      <td>Algeria</td>\n",
       "      <td>2020-01-22</td>\n",
       "      <td>Confirmed</td>\n",
       "      <td>0.0</td>\n",
       "    </tr>\n",
       "    <tr>\n",
       "      <th>3</th>\n",
       "      <td>Andorra</td>\n",
       "      <td>2020-01-22</td>\n",
       "      <td>Confirmed</td>\n",
       "      <td>0.0</td>\n",
       "    </tr>\n",
       "    <tr>\n",
       "      <th>4</th>\n",
       "      <td>Angola</td>\n",
       "      <td>2020-01-22</td>\n",
       "      <td>Confirmed</td>\n",
       "      <td>0.0</td>\n",
       "    </tr>\n",
       "  </tbody>\n",
       "</table>\n",
       "</div>"
      ],
      "text/plain": [
       "  Country/Region       Date    Measure  Value\n",
       "0    Afghanistan 2020-01-22  Confirmed    0.0\n",
       "1        Albania 2020-01-22  Confirmed    0.0\n",
       "2        Algeria 2020-01-22  Confirmed    0.0\n",
       "3        Andorra 2020-01-22  Confirmed    0.0\n",
       "4         Angola 2020-01-22  Confirmed    0.0"
      ]
     },
     "execution_count": 165,
     "metadata": {},
     "output_type": "execute_result"
    }
   ],
   "source": [
    "df['Deaths_Rate'] = df['Deaths'] / df['Confirmed']\n",
    "df['Recovered_Rate'] = df['Recovered'] / df['Confirmed']\n",
    "dimcols = ['Country/Region', 'Date']\n",
    "faccols = ['Confirmed', 'Deaths', 'Recovered', 'Deaths_Rate', 'Recovered_Rate']\n",
    "dim = df[dimcols]\n",
    "fac = df[faccols].fillna(0)\n",
    "\n",
    "print('len df:', len(df))\n",
    "print('len dim:', len(dim))\n",
    "print('len fac:', len(fac))\n",
    "print('len fac * 5:', len(fac)*5)\n",
    "\n",
    "vertdf = pd.concat(\n",
    "    [pd.concat([\n",
    "        dim,\n",
    "        pd.DataFrame({'Measure':[x]*len(df)}),\n",
    "        fac[x].rename('Value')\n",
    "    ], axis = 1) for x in faccols], axis = 0)\n",
    "\n",
    "print('len vertdf:', len(vertdf))\n",
    "print(vertdf.info())\n",
    "vertdf.head(5)"
   ]
  },
  {
   "cell_type": "code",
   "execution_count": 280,
   "metadata": {},
   "outputs": [
    {
     "data": {
      "application/vnd.jupyter.widget-view+json": {
       "model_id": "2a425209c575443b8b89dcdc7238d201",
       "version_major": 2,
       "version_minor": 0
      },
      "text/plain": [
       "interactive(children=(Dropdown(description='country', options=('Afghanistan', 'Albania', 'Algeria', 'Andorra',…"
      ]
     },
     "metadata": {},
     "output_type": "display_data"
    }
   ],
   "source": [
    "import matplotlib.pyplot as plt\n",
    "from plotly.subplots import make_subplots\n",
    "import plotly.graph_objects as go\n",
    "\n",
    "@interact\n",
    "def plot(country = opt):\n",
    "    fig = make_subplots(rows = 2, cols = 1, shared_xaxes = True)\n",
    "\n",
    "    cdf = vertdf[vertdf['Country/Region'] == country]\n",
    "\n",
    "    x = [pd.to_datetime(x).strftime('%d-%b') for x in list(cdf[cdf['Measure']=='Confirmed']['Date'].sort_values().unique())]\n",
    "    y1 = cdf[cdf['Measure']=='Confirmed']['Value'].tolist()\n",
    "    y2 = cdf[cdf['Measure']=='Deaths']['Value'].tolist()\n",
    "    y3 = cdf[cdf['Measure']=='Recovered']['Value'].tolist()\n",
    "    y4 = cdf[cdf['Measure']=='Deaths_Rate']['Value'].tolist()\n",
    "    y5 = cdf[cdf['Measure']=='Recovered_Rate']['Value'].tolist()\n",
    "\n",
    "    fig.add_trace(go.Scatter(x = x, y = y1, name = \"# Confirmed\", mode='lines', connectgaps=True), row = 1, col = 1)\n",
    "    fig.add_trace(go.Scatter(x = x, y = y2, name = \"# Deaths\", mode='lines'), row = 1, col = 1)\n",
    "    fig.add_trace(go.Scatter(x = x, y = y3, name = \"# Recovered\", mode='lines'), row = 1, col = 1)\n",
    "\n",
    "    fig.add_trace(go.Scatter(x = x, y = y4, name = \"Deaths_Rate\", mode='lines'), row = 2, col = 1)\n",
    "    fig.add_trace(go.Scatter(x = x, y = y5, name = \"Recovered_Rate\", mode='lines'), row = 2, col = 1)\n",
    "\n",
    "    fig.update_layout(\n",
    "        title=\"Covid-19 Analytisis by Country: {}\".format(country),\n",
    "        xaxis_title=\"Dates\",\n",
    "        yaxis_title=\"Values\"\n",
    "    )\n",
    "    fig.show()"
   ]
  },
  {
   "cell_type": "markdown",
   "metadata": {},
   "source": [
    "### Análisis de datos de [Datos Abiertos](https://www.datos.gov.co/Salud-y-Protecci-n-Social/Casos-positivos-de-COVID-19-en-Colombia/gt2j-8ykr)"
   ]
  },
  {
   "cell_type": "code",
   "execution_count": 15,
   "metadata": {},
   "outputs": [
    {
     "name": "stdout",
     "output_type": "stream",
     "text": [
      "Collecting sodapy\n",
      "  Using cached sodapy-2.1.0-py2.py3-none-any.whl (14 kB)\n",
      "Requirement already satisfied: requests>=2.20.0 in c:\\programfiles\\lib\\site-packages (from sodapy) (2.24.0)\n",
      "Requirement already satisfied: urllib3!=1.25.0,!=1.25.1,<1.26,>=1.21.1 in c:\\programfiles\\lib\\site-packages (from requests>=2.20.0->sodapy) (1.25.9)\n",
      "Requirement already satisfied: certifi>=2017.4.17 in c:\\programfiles\\lib\\site-packages (from requests>=2.20.0->sodapy) (2020.6.20)\n",
      "Requirement already satisfied: idna<3,>=2.5 in c:\\programfiles\\lib\\site-packages (from requests>=2.20.0->sodapy) (2.10)\n",
      "Requirement already satisfied: chardet<4,>=3.0.2 in c:\\programfiles\\lib\\site-packages (from requests>=2.20.0->sodapy) (3.0.4)\n",
      "Installing collected packages: sodapy\n",
      "Successfully installed sodapy-2.1.0\n",
      "Note: you may need to restart the kernel to use updated packages.\n"
     ]
    }
   ],
   "source": [
    "pip install --user sodapy"
   ]
  },
  {
   "cell_type": "code",
   "execution_count": 4,
   "metadata": {},
   "outputs": [
    {
     "name": "stdout",
     "output_type": "stream",
     "text": [
      "(1000000, 23)\n",
      "df Shape: (1000000, 23)\n",
      "<class 'pandas.core.frame.DataFrame'>\n",
      "RangeIndex: 1000000 entries, 0 to 999999\n",
      "Data columns (total 23 columns):\n",
      " #   Column                 Non-Null Count    Dtype \n",
      "---  ------                 --------------    ----- \n",
      " 0   fecha_reporte_web      1000000 non-null  object\n",
      " 1   id_de_caso             1000000 non-null  object\n",
      " 2   fecha_de_notificaci_n  1000000 non-null  object\n",
      " 3   departamento           1000000 non-null  object\n",
      " 4   departamento_nom       1000000 non-null  object\n",
      " 5   ciudad_municipio       1000000 non-null  object\n",
      " 6   ciudad_municipio_nom   1000000 non-null  object\n",
      " 7   edad                   1000000 non-null  object\n",
      " 8   unidad_medida          1000000 non-null  object\n",
      " 9   sexo                   1000000 non-null  object\n",
      " 10  fuente_tipo_contagio   1000000 non-null  object\n",
      " 11  ubicacion              1000000 non-null  object\n",
      " 12  estado                 1000000 non-null  object\n",
      " 13  pais_viajo_1_cod       936 non-null      object\n",
      " 14  pais_viajo_1_nom       935 non-null      object\n",
      " 15  recuperado             1000000 non-null  object\n",
      " 16  fecha_inicio_sintomas  872754 non-null   object\n",
      " 17  fecha_diagnostico      995710 non-null   object\n",
      " 18  fecha_recuperado       953184 non-null   object\n",
      " 19  tipo_recuperacion      953184 non-null   object\n",
      " 20  per_etn_               1000000 non-null  object\n",
      " 21  nom_grupo_             16029 non-null    object\n",
      " 22  fecha_muerte           34947 non-null    object\n",
      "dtypes: object(23)\n",
      "memory usage: 175.5+ MB\n",
      "df Info: None\n"
     ]
    },
    {
     "data": {
      "text/html": [
       "<div>\n",
       "<style scoped>\n",
       "    .dataframe tbody tr th:only-of-type {\n",
       "        vertical-align: middle;\n",
       "    }\n",
       "\n",
       "    .dataframe tbody tr th {\n",
       "        vertical-align: top;\n",
       "    }\n",
       "\n",
       "    .dataframe thead th {\n",
       "        text-align: right;\n",
       "    }\n",
       "</style>\n",
       "<table border=\"1\" class=\"dataframe\">\n",
       "  <thead>\n",
       "    <tr style=\"text-align: right;\">\n",
       "      <th></th>\n",
       "      <th>fecha_reporte_web</th>\n",
       "      <th>id_de_caso</th>\n",
       "      <th>fecha_de_notificaci_n</th>\n",
       "      <th>departamento</th>\n",
       "      <th>departamento_nom</th>\n",
       "      <th>ciudad_municipio</th>\n",
       "      <th>ciudad_municipio_nom</th>\n",
       "      <th>edad</th>\n",
       "      <th>unidad_medida</th>\n",
       "      <th>sexo</th>\n",
       "      <th>...</th>\n",
       "      <th>pais_viajo_1_cod</th>\n",
       "      <th>pais_viajo_1_nom</th>\n",
       "      <th>recuperado</th>\n",
       "      <th>fecha_inicio_sintomas</th>\n",
       "      <th>fecha_diagnostico</th>\n",
       "      <th>fecha_recuperado</th>\n",
       "      <th>tipo_recuperacion</th>\n",
       "      <th>per_etn_</th>\n",
       "      <th>nom_grupo_</th>\n",
       "      <th>fecha_muerte</th>\n",
       "    </tr>\n",
       "  </thead>\n",
       "  <tbody>\n",
       "    <tr>\n",
       "      <th>0</th>\n",
       "      <td>6/3/2020 0:00:00</td>\n",
       "      <td>1</td>\n",
       "      <td>2/3/2020 0:00:00</td>\n",
       "      <td>11</td>\n",
       "      <td>BOGOTA</td>\n",
       "      <td>11001</td>\n",
       "      <td>BOGOTA</td>\n",
       "      <td>19</td>\n",
       "      <td>1</td>\n",
       "      <td>F</td>\n",
       "      <td>...</td>\n",
       "      <td>380</td>\n",
       "      <td>ITALIA</td>\n",
       "      <td>Recuperado</td>\n",
       "      <td>27/2/2020 0:00:00</td>\n",
       "      <td>6/3/2020 0:00:00</td>\n",
       "      <td>13/3/2020 0:00:00</td>\n",
       "      <td>PCR</td>\n",
       "      <td>6</td>\n",
       "      <td>NaN</td>\n",
       "      <td>NaN</td>\n",
       "    </tr>\n",
       "    <tr>\n",
       "      <th>1</th>\n",
       "      <td>9/3/2020 0:00:00</td>\n",
       "      <td>2</td>\n",
       "      <td>6/3/2020 0:00:00</td>\n",
       "      <td>76</td>\n",
       "      <td>VALLE</td>\n",
       "      <td>76111</td>\n",
       "      <td>BUGA</td>\n",
       "      <td>34</td>\n",
       "      <td>1</td>\n",
       "      <td>M</td>\n",
       "      <td>...</td>\n",
       "      <td>724</td>\n",
       "      <td>ESPAÑA</td>\n",
       "      <td>Recuperado</td>\n",
       "      <td>4/3/2020 0:00:00</td>\n",
       "      <td>9/3/2020 0:00:00</td>\n",
       "      <td>19/3/2020 0:00:00</td>\n",
       "      <td>PCR</td>\n",
       "      <td>5</td>\n",
       "      <td>NaN</td>\n",
       "      <td>NaN</td>\n",
       "    </tr>\n",
       "    <tr>\n",
       "      <th>2</th>\n",
       "      <td>9/3/2020 0:00:00</td>\n",
       "      <td>3</td>\n",
       "      <td>7/3/2020 0:00:00</td>\n",
       "      <td>5</td>\n",
       "      <td>ANTIOQUIA</td>\n",
       "      <td>5001</td>\n",
       "      <td>MEDELLIN</td>\n",
       "      <td>50</td>\n",
       "      <td>1</td>\n",
       "      <td>F</td>\n",
       "      <td>...</td>\n",
       "      <td>724</td>\n",
       "      <td>ESPAÑA</td>\n",
       "      <td>Recuperado</td>\n",
       "      <td>29/2/2020 0:00:00</td>\n",
       "      <td>9/3/2020 0:00:00</td>\n",
       "      <td>15/3/2020 0:00:00</td>\n",
       "      <td>PCR</td>\n",
       "      <td>6</td>\n",
       "      <td>NaN</td>\n",
       "      <td>NaN</td>\n",
       "    </tr>\n",
       "    <tr>\n",
       "      <th>3</th>\n",
       "      <td>11/3/2020 0:00:00</td>\n",
       "      <td>4</td>\n",
       "      <td>9/3/2020 0:00:00</td>\n",
       "      <td>5</td>\n",
       "      <td>ANTIOQUIA</td>\n",
       "      <td>5001</td>\n",
       "      <td>MEDELLIN</td>\n",
       "      <td>55</td>\n",
       "      <td>1</td>\n",
       "      <td>M</td>\n",
       "      <td>...</td>\n",
       "      <td>NaN</td>\n",
       "      <td>NaN</td>\n",
       "      <td>Recuperado</td>\n",
       "      <td>6/3/2020 0:00:00</td>\n",
       "      <td>11/3/2020 0:00:00</td>\n",
       "      <td>26/3/2020 0:00:00</td>\n",
       "      <td>PCR</td>\n",
       "      <td>6</td>\n",
       "      <td>NaN</td>\n",
       "      <td>NaN</td>\n",
       "    </tr>\n",
       "    <tr>\n",
       "      <th>4</th>\n",
       "      <td>11/3/2020 0:00:00</td>\n",
       "      <td>5</td>\n",
       "      <td>9/3/2020 0:00:00</td>\n",
       "      <td>5</td>\n",
       "      <td>ANTIOQUIA</td>\n",
       "      <td>5001</td>\n",
       "      <td>MEDELLIN</td>\n",
       "      <td>25</td>\n",
       "      <td>1</td>\n",
       "      <td>M</td>\n",
       "      <td>...</td>\n",
       "      <td>NaN</td>\n",
       "      <td>NaN</td>\n",
       "      <td>Recuperado</td>\n",
       "      <td>8/3/2020 0:00:00</td>\n",
       "      <td>11/3/2020 0:00:00</td>\n",
       "      <td>23/3/2020 0:00:00</td>\n",
       "      <td>PCR</td>\n",
       "      <td>6</td>\n",
       "      <td>NaN</td>\n",
       "      <td>NaN</td>\n",
       "    </tr>\n",
       "  </tbody>\n",
       "</table>\n",
       "<p>5 rows × 23 columns</p>\n",
       "</div>"
      ],
      "text/plain": [
       "   fecha_reporte_web id_de_caso fecha_de_notificaci_n departamento  \\\n",
       "0   6/3/2020 0:00:00          1      2/3/2020 0:00:00           11   \n",
       "1   9/3/2020 0:00:00          2      6/3/2020 0:00:00           76   \n",
       "2   9/3/2020 0:00:00          3      7/3/2020 0:00:00            5   \n",
       "3  11/3/2020 0:00:00          4      9/3/2020 0:00:00            5   \n",
       "4  11/3/2020 0:00:00          5      9/3/2020 0:00:00            5   \n",
       "\n",
       "  departamento_nom ciudad_municipio ciudad_municipio_nom edad unidad_medida  \\\n",
       "0           BOGOTA            11001               BOGOTA   19             1   \n",
       "1            VALLE            76111                 BUGA   34             1   \n",
       "2        ANTIOQUIA             5001             MEDELLIN   50             1   \n",
       "3        ANTIOQUIA             5001             MEDELLIN   55             1   \n",
       "4        ANTIOQUIA             5001             MEDELLIN   25             1   \n",
       "\n",
       "  sexo  ... pais_viajo_1_cod pais_viajo_1_nom  recuperado  \\\n",
       "0    F  ...              380           ITALIA  Recuperado   \n",
       "1    M  ...              724           ESPAÑA  Recuperado   \n",
       "2    F  ...              724           ESPAÑA  Recuperado   \n",
       "3    M  ...              NaN              NaN  Recuperado   \n",
       "4    M  ...              NaN              NaN  Recuperado   \n",
       "\n",
       "  fecha_inicio_sintomas  fecha_diagnostico   fecha_recuperado  \\\n",
       "0     27/2/2020 0:00:00   6/3/2020 0:00:00  13/3/2020 0:00:00   \n",
       "1      4/3/2020 0:00:00   9/3/2020 0:00:00  19/3/2020 0:00:00   \n",
       "2     29/2/2020 0:00:00   9/3/2020 0:00:00  15/3/2020 0:00:00   \n",
       "3      6/3/2020 0:00:00  11/3/2020 0:00:00  26/3/2020 0:00:00   \n",
       "4      8/3/2020 0:00:00  11/3/2020 0:00:00  23/3/2020 0:00:00   \n",
       "\n",
       "  tipo_recuperacion per_etn_ nom_grupo_ fecha_muerte  \n",
       "0               PCR        6        NaN          NaN  \n",
       "1               PCR        5        NaN          NaN  \n",
       "2               PCR        6        NaN          NaN  \n",
       "3               PCR        6        NaN          NaN  \n",
       "4               PCR        6        NaN          NaN  \n",
       "\n",
       "[5 rows x 23 columns]"
      ]
     },
     "execution_count": 4,
     "metadata": {},
     "output_type": "execute_result"
    }
   ],
   "source": [
    "import pandas as pd\n",
    "from sodapy import Socrata\n",
    "\n",
    "api_token = r'2i1q8riwhl18w3bdeogeph7a0'\n",
    "api_secretkey = r'54cvecvip76jrrpox1g9m4xcj2zqk0zw57vkf1cf2fixhnlqb8'\n",
    "\n",
    "app_token = r'OpRCtKHXAFQJANoSy1aRfevWv'\n",
    "app_token_secret = r'jsbkBmq1ybXiRWxQLfA1aVk8YFt8v3CuZV08'\n",
    "\n",
    "client = Socrata('www.datos.gov.co',\n",
    "                 app_token,\n",
    "                 username=\"fabio.salinas@sbseguros.co\",\n",
    "                 password=\"Aadd4455+\")\n",
    "\n",
    "results = client.get(\"gt2j-8ykr\", limit = 1000000)\n",
    "\n",
    "df2 = pd.DataFrame.from_records(results)\n",
    "print(df2.shape)\n",
    "print('df Shape:', df2.shape)\n",
    "print('df Info:', df2.info())\n",
    "df2.head(5)"
   ]
  },
  {
   "cell_type": "code",
   "execution_count": 524,
   "metadata": {},
   "outputs": [],
   "source": [
    "df2['fecha_de_notificaci_n'] = pd.to_datetime(df2['fecha_de_notificaci_n'], format = '%Y-%m-%d', errors = 'coerce')\n",
    "df2['fis'] = pd.to_datetime(df2['fis'], format = '%Y-%m-%d', errors = 'coerce')\n",
    "df2['fecha_de_muerte'] = pd.to_datetime(df2['fecha_de_muerte'], format = '%Y-%m-%d', errors = 'coerce')\n",
    "df2['fecha_diagnostico'] = pd.to_datetime(df2['fecha_diagnostico'], format = '%Y-%m-%d', errors = 'coerce')\n",
    "df2['fecha_recuperado'] = pd.to_datetime(df2['fecha_recuperado'], format = '%Y-%m-%d', errors = 'coerce')\n",
    "df2['fecha_reporte_web'] = pd.to_datetime(df2['fecha_reporte_web'], format = '%Y-%m-%d', errors = 'coerce')"
   ]
  },
  {
   "cell_type": "code",
   "execution_count": 525,
   "metadata": {},
   "outputs": [],
   "source": [
    "df2 = df2[~df2['pa_s_de_procedencia'].isin(['-   -'])]"
   ]
  },
  {
   "cell_type": "code",
   "execution_count": 526,
   "metadata": {},
   "outputs": [],
   "source": [
    "df2 = df2.astype(\n",
    "    {\n",
    "        'ciudad_de_ubicaci_n': 'category',\n",
    "        'departamento': 'category',\n",
    "        'atenci_n': 'category',\n",
    "        'edad': 'int16',\n",
    "        'sexo': 'category',\n",
    "        'tipo': 'category',\n",
    "        'estado': 'category',\n",
    "        'pa_s_de_procedencia': 'category'\n",
    "    }\n",
    ")"
   ]
  },
  {
   "cell_type": "code",
   "execution_count": 527,
   "metadata": {},
   "outputs": [
    {
     "name": "stdout",
     "output_type": "stream",
     "text": [
      "<class 'pandas.core.frame.DataFrame'>\n",
      "Int64Index: 7668 entries, 0 to 7707\n",
      "Data columns (total 16 columns):\n",
      " #   Column                 Non-Null Count  Dtype         \n",
      "---  ------                 --------------  -----         \n",
      " 0   id_de_caso             7668 non-null   object        \n",
      " 1   fecha_de_notificaci_n  7668 non-null   datetime64[ns]\n",
      " 2   codigo_divipola        7668 non-null   object        \n",
      " 3   ciudad_de_ubicaci_n    7668 non-null   category      \n",
      " 4   departamento           7668 non-null   category      \n",
      " 5   atenci_n               7668 non-null   category      \n",
      " 6   edad                   7668 non-null   int16         \n",
      " 7   sexo                   7668 non-null   category      \n",
      " 8   tipo                   7668 non-null   category      \n",
      " 9   estado                 7668 non-null   category      \n",
      " 10  pa_s_de_procedencia    7668 non-null   category      \n",
      " 11  fis                    6741 non-null   datetime64[ns]\n",
      " 12  fecha_de_muerte        344 non-null    datetime64[ns]\n",
      " 13  fecha_diagnostico      7668 non-null   datetime64[ns]\n",
      " 14  fecha_recuperado       1722 non-null   datetime64[ns]\n",
      " 15  fecha_reporte_web      7668 non-null   datetime64[ns]\n",
      "dtypes: category(7), datetime64[ns](6), int16(1), object(2)\n",
      "memory usage: 630.1+ KB\n"
     ]
    }
   ],
   "source": [
    "df2.info()"
   ]
  },
  {
   "cell_type": "code",
   "execution_count": 528,
   "metadata": {},
   "outputs": [
    {
     "name": "stdout",
     "output_type": "stream",
     "text": [
      "Total de casos al 2020-05-03 00:00:00: 7,668\n"
     ]
    },
    {
     "data": {
      "text/html": [
       "<div>\n",
       "<style scoped>\n",
       "    .dataframe tbody tr th:only-of-type {\n",
       "        vertical-align: middle;\n",
       "    }\n",
       "\n",
       "    .dataframe tbody tr th {\n",
       "        vertical-align: top;\n",
       "    }\n",
       "\n",
       "    .dataframe thead th {\n",
       "        text-align: right;\n",
       "    }\n",
       "</style>\n",
       "<table border=\"1\" class=\"dataframe\">\n",
       "  <thead>\n",
       "    <tr style=\"text-align: right;\">\n",
       "      <th></th>\n",
       "      <th>pa_s_de_procedencia</th>\n",
       "      <th>n</th>\n",
       "      <th>pje</th>\n",
       "    </tr>\n",
       "  </thead>\n",
       "  <tbody>\n",
       "    <tr>\n",
       "      <th>0</th>\n",
       "      <td>Colombia</td>\n",
       "      <td>6850</td>\n",
       "      <td>89.33</td>\n",
       "    </tr>\n",
       "    <tr>\n",
       "      <th>1</th>\n",
       "      <td>España</td>\n",
       "      <td>258</td>\n",
       "      <td>3.36</td>\n",
       "    </tr>\n",
       "    <tr>\n",
       "      <th>2</th>\n",
       "      <td>Estados Unidos de América</td>\n",
       "      <td>207</td>\n",
       "      <td>2.70</td>\n",
       "    </tr>\n",
       "    <tr>\n",
       "      <th>3</th>\n",
       "      <td>Ecuador</td>\n",
       "      <td>47</td>\n",
       "      <td>0.61</td>\n",
       "    </tr>\n",
       "    <tr>\n",
       "      <th>4</th>\n",
       "      <td>México</td>\n",
       "      <td>46</td>\n",
       "      <td>0.60</td>\n",
       "    </tr>\n",
       "    <tr>\n",
       "      <th>5</th>\n",
       "      <td>Panamá</td>\n",
       "      <td>34</td>\n",
       "      <td>0.44</td>\n",
       "    </tr>\n",
       "    <tr>\n",
       "      <th>6</th>\n",
       "      <td>Brasil</td>\n",
       "      <td>30</td>\n",
       "      <td>0.39</td>\n",
       "    </tr>\n",
       "    <tr>\n",
       "      <th>7</th>\n",
       "      <td>Turquía</td>\n",
       "      <td>28</td>\n",
       "      <td>0.37</td>\n",
       "    </tr>\n",
       "    <tr>\n",
       "      <th>8</th>\n",
       "      <td>Francia</td>\n",
       "      <td>16</td>\n",
       "      <td>0.21</td>\n",
       "    </tr>\n",
       "    <tr>\n",
       "      <th>9</th>\n",
       "      <td>Jamaica</td>\n",
       "      <td>16</td>\n",
       "      <td>0.21</td>\n",
       "    </tr>\n",
       "  </tbody>\n",
       "</table>\n",
       "</div>"
      ],
      "text/plain": [
       "         pa_s_de_procedencia     n    pje\n",
       "0                   Colombia  6850  89.33\n",
       "1                     España   258   3.36\n",
       "2  Estados Unidos de América   207   2.70\n",
       "3                    Ecuador    47   0.61\n",
       "4                     México    46   0.60\n",
       "5                     Panamá    34   0.44\n",
       "6                     Brasil    30   0.39\n",
       "7                    Turquía    28   0.37\n",
       "8                    Francia    16   0.21\n",
       "9                    Jamaica    16   0.21"
      ]
     },
     "execution_count": 528,
     "metadata": {},
     "output_type": "execute_result"
    }
   ],
   "source": [
    "df_pais = df2['pa_s_de_procedencia'].value_counts().reset_index().rename(columns={'pa_s_de_procedencia':'n', 'index':'pa_s_de_procedencia'})\n",
    "df_pais['pje'] = round((df_pais.n / df_pais.n.sum()) * 100,2)\n",
    "\n",
    "print('Total de casos al {fec}: {n:,}'.format(fec = df2['fecha_reporte_web'].max(), n = df_pais.n.sum()))\n",
    "df_pais.head(10)"
   ]
  },
  {
   "cell_type": "code",
   "execution_count": 529,
   "metadata": {},
   "outputs": [
    {
     "data": {
      "text/html": [
       "<div>\n",
       "<style scoped>\n",
       "    .dataframe tbody tr th:only-of-type {\n",
       "        vertical-align: middle;\n",
       "    }\n",
       "\n",
       "    .dataframe tbody tr th {\n",
       "        vertical-align: top;\n",
       "    }\n",
       "\n",
       "    .dataframe thead th {\n",
       "        text-align: right;\n",
       "    }\n",
       "</style>\n",
       "<table border=\"1\" class=\"dataframe\">\n",
       "  <thead>\n",
       "    <tr style=\"text-align: right;\">\n",
       "      <th></th>\n",
       "      <th>edad</th>\n",
       "      <th>Confirmado</th>\n",
       "      <th>Recuperado</th>\n",
       "      <th>Muerto</th>\n",
       "    </tr>\n",
       "  </thead>\n",
       "  <tbody>\n",
       "    <tr>\n",
       "      <th>count</th>\n",
       "      <td>7668.000000</td>\n",
       "      <td>7668.0</td>\n",
       "      <td>7668.000000</td>\n",
       "      <td>7668.000000</td>\n",
       "    </tr>\n",
       "    <tr>\n",
       "      <th>mean</th>\n",
       "      <td>40.691967</td>\n",
       "      <td>1.0</td>\n",
       "      <td>0.224570</td>\n",
       "      <td>0.044862</td>\n",
       "    </tr>\n",
       "    <tr>\n",
       "      <th>std</th>\n",
       "      <td>18.625805</td>\n",
       "      <td>0.0</td>\n",
       "      <td>0.417326</td>\n",
       "      <td>0.207014</td>\n",
       "    </tr>\n",
       "    <tr>\n",
       "      <th>min</th>\n",
       "      <td>0.000000</td>\n",
       "      <td>1.0</td>\n",
       "      <td>0.000000</td>\n",
       "      <td>0.000000</td>\n",
       "    </tr>\n",
       "    <tr>\n",
       "      <th>25%</th>\n",
       "      <td>27.000000</td>\n",
       "      <td>1.0</td>\n",
       "      <td>0.000000</td>\n",
       "      <td>0.000000</td>\n",
       "    </tr>\n",
       "    <tr>\n",
       "      <th>50%</th>\n",
       "      <td>38.000000</td>\n",
       "      <td>1.0</td>\n",
       "      <td>0.000000</td>\n",
       "      <td>0.000000</td>\n",
       "    </tr>\n",
       "    <tr>\n",
       "      <th>75%</th>\n",
       "      <td>54.000000</td>\n",
       "      <td>1.0</td>\n",
       "      <td>0.000000</td>\n",
       "      <td>0.000000</td>\n",
       "    </tr>\n",
       "    <tr>\n",
       "      <th>max</th>\n",
       "      <td>103.000000</td>\n",
       "      <td>1.0</td>\n",
       "      <td>1.000000</td>\n",
       "      <td>1.000000</td>\n",
       "    </tr>\n",
       "  </tbody>\n",
       "</table>\n",
       "</div>"
      ],
      "text/plain": [
       "              edad  Confirmado   Recuperado       Muerto\n",
       "count  7668.000000      7668.0  7668.000000  7668.000000\n",
       "mean     40.691967         1.0     0.224570     0.044862\n",
       "std      18.625805         0.0     0.417326     0.207014\n",
       "min       0.000000         1.0     0.000000     0.000000\n",
       "25%      27.000000         1.0     0.000000     0.000000\n",
       "50%      38.000000         1.0     0.000000     0.000000\n",
       "75%      54.000000         1.0     0.000000     0.000000\n",
       "max     103.000000         1.0     1.000000     1.000000"
      ]
     },
     "execution_count": 529,
     "metadata": {},
     "output_type": "execute_result"
    }
   ],
   "source": [
    "df2['Confirmado'] = 1\n",
    "df2['Recuperado'] = [0 if x == True else 1 for x in df2['fecha_recuperado'].isna().tolist()]\n",
    "df2['Muerto'] = [0 if x == True else 1 for x in df2['fecha_de_muerte'].isna().tolist()]\n",
    "df2.describe()"
   ]
  },
  {
   "cell_type": "code",
   "execution_count": 545,
   "metadata": {},
   "outputs": [
    {
     "data": {
      "application/vnd.jupyter.widget-view+json": {
       "model_id": "d05f0b390962490783eff221a83ffebf",
       "version_major": 2,
       "version_minor": 0
      },
      "text/plain": [
       "interactive(children=(Dropdown(description='edad', options=('Todos', '0,10', '11,20', '21,30', '31,40', '41,50…"
      ]
     },
     "metadata": {},
     "output_type": "display_data"
    }
   ],
   "source": [
    "import matplotlib.pyplot as plt\n",
    "from plotly.subplots import make_subplots\n",
    "import plotly.graph_objects as go\n",
    "\n",
    "ciudades = ['Todos']\n",
    "ciudades += df2.ciudad_de_ubicaci_n.unique().tolist()\n",
    "edades = ['Todos', '0,10', '11,20', '21,30', '31,40', '41,50', '51,60', '61,70', '71,80', '81,90', '91,100']\n",
    "\n",
    "@interact(edad = edades, ciudad = ciudades)\n",
    "def update(edad, ciudad):\n",
    "    if ciudad != 'Todos':\n",
    "        print(ciudad)\n",
    "        dff = df2[df2.ciudad_de_ubicaci_n == ciudad]\n",
    "    else:\n",
    "        dff = df2\n",
    "    if edad != 'Todos':\n",
    "        print(edad)\n",
    "        dff = dff[(dff['edad']>=int(edad.split(',')[0])) & (dff['edad']<=int(edad.split(',')[1]))]\n",
    "    else:\n",
    "        dff = df2\n",
    "    \n",
    "    print('Confirmados:\\t {cnf:,}\\nRecuperados:\\t {rec:,} \\t({prec}%)\\nMuertos:\\t {mue:,} \\t({pmue}%)\\nInfectados:\\t {inf:,} \\t({pinf}%)'.format(\n",
    "        cnf = dff['Confirmado'].sum(),\n",
    "        rec = dff['Recuperado'].sum(),\n",
    "        prec = round(dff['Recuperado'].sum()/dff['Confirmado'].sum(),2)*100,\n",
    "        mue = dff['Muerto'].sum(),\n",
    "        pmue = round(dff['Muerto'].sum()/dff['Confirmado'].sum(),2)*100,\n",
    "        inf = dff['Confirmado'].sum() - (dff['Muerto'].sum() + dff['Recuperado'].sum()),\n",
    "        pinf = round((dff['Confirmado'].sum() - (dff['Muerto'].sum() + dff['Recuperado'].sum()))/dff['Confirmado'].sum(),2)*100\n",
    "    ))\n",
    "    \n",
    "    fig = make_subplots(rows = 1, cols = 1, shared_xaxes = True)\n",
    "    \n",
    "    plotdf = dff.groupby('fecha_diagnostico', as_index=False).agg({'Confirmado':'sum', 'Recuperado': 'sum', 'Muerto': 'sum'})\n",
    "    \n",
    "    x = plotdf['fecha_diagnostico'].tolist()\n",
    "    y1 = plotdf['Confirmado'].tolist()\n",
    "    y2 = plotdf['Recuperado'].tolist()\n",
    "    y3 = plotdf['Muerto'].tolist()\n",
    "    \n",
    "    fig.add_trace(go.Scatter(x = x, y = y1, name = \"# Confirmados\", mode='lines', connectgaps=True), row = 1, col = 1)\n",
    "    fig.add_trace(go.Scatter(x = x, y = y3, name = \"# Muertos\", mode='lines', connectgaps=True), row = 1, col = 1)\n",
    "    fig.add_trace(go.Scatter(x = x, y = y2, name = \"# Recuperados\", mode='lines', connectgaps=True), row = 1, col = 1)\n",
    "    \n",
    "    fig.show()\n"
   ]
  },
  {
   "cell_type": "code",
   "execution_count": 493,
   "metadata": {
    "scrolled": true
   },
   "outputs": [
    {
     "data": {
      "text/html": [
       "<div>\n",
       "<style scoped>\n",
       "    .dataframe tbody tr th:only-of-type {\n",
       "        vertical-align: middle;\n",
       "    }\n",
       "\n",
       "    .dataframe tbody tr th {\n",
       "        vertical-align: top;\n",
       "    }\n",
       "\n",
       "    .dataframe thead th {\n",
       "        text-align: right;\n",
       "    }\n",
       "</style>\n",
       "<table border=\"1\" class=\"dataframe\">\n",
       "  <thead>\n",
       "    <tr style=\"text-align: right;\">\n",
       "      <th></th>\n",
       "      <th>Genero</th>\n",
       "      <th>n</th>\n",
       "      <th>pje</th>\n",
       "    </tr>\n",
       "  </thead>\n",
       "  <tbody>\n",
       "    <tr>\n",
       "      <th>0</th>\n",
       "      <td>M</td>\n",
       "      <td>4196</td>\n",
       "      <td>55.0</td>\n",
       "    </tr>\n",
       "    <tr>\n",
       "      <th>1</th>\n",
       "      <td>F</td>\n",
       "      <td>3468</td>\n",
       "      <td>45.0</td>\n",
       "    </tr>\n",
       "    <tr>\n",
       "      <th>2</th>\n",
       "      <td>f</td>\n",
       "      <td>3</td>\n",
       "      <td>0.0</td>\n",
       "    </tr>\n",
       "    <tr>\n",
       "      <th>3</th>\n",
       "      <td>m</td>\n",
       "      <td>1</td>\n",
       "      <td>0.0</td>\n",
       "    </tr>\n",
       "  </tbody>\n",
       "</table>\n",
       "</div>"
      ],
      "text/plain": [
       "  Genero     n   pje\n",
       "0      M  4196  55.0\n",
       "1      F  3468  45.0\n",
       "2      f     3   0.0\n",
       "3      m     1   0.0"
      ]
     },
     "execution_count": 493,
     "metadata": {},
     "output_type": "execute_result"
    }
   ],
   "source": [
    "dfgenero = df['sexo'].value_counts().reset_index().rename(columns={'sexo':'n', 'index':'Genero'})\n",
    "dfgenero['pje'] = round(dfgenero.n / dfgenero.n.sum(),2)*100\n",
    "dfgenero"
   ]
  },
  {
   "cell_type": "code",
   "execution_count": 547,
   "metadata": {},
   "outputs": [
    {
     "data": {
      "text/plain": [
       "Index(['id_de_caso', 'fecha_de_notificaci_n', 'codigo_divipola',\n",
       "       'ciudad_de_ubicaci_n', 'departamento', 'atenci_n', 'edad', 'sexo',\n",
       "       'tipo', 'estado', 'pa_s_de_procedencia', 'fis', 'fecha_de_muerte',\n",
       "       'fecha_diagnostico', 'fecha_recuperado', 'fecha_reporte_web',\n",
       "       'Confirmado', 'Recuperado', 'Muerto'],\n",
       "      dtype='object')"
      ]
     },
     "execution_count": 547,
     "metadata": {},
     "output_type": "execute_result"
    }
   ],
   "source": [
    "df2.columns"
   ]
  },
  {
   "cell_type": "code",
   "execution_count": 550,
   "metadata": {},
   "outputs": [
    {
     "data": {
      "text/plain": [
       "Leve            5757\n",
       "Asintomático     927\n",
       "Moderado         486\n",
       "Fallecido        340\n",
       "Grave            122\n",
       "leve              32\n",
       "N/A                4\n",
       "Name: estado, dtype: int64"
      ]
     },
     "execution_count": 550,
     "metadata": {},
     "output_type": "execute_result"
    }
   ],
   "source": [
    "df2.estado.value_counts()"
   ]
  }
 ],
 "metadata": {
  "kernelspec": {
   "display_name": "Python 3",
   "language": "python",
   "name": "python3"
  },
  "language_info": {
   "codemirror_mode": {
    "name": "ipython",
    "version": 3
   },
   "file_extension": ".py",
   "mimetype": "text/x-python",
   "name": "python",
   "nbconvert_exporter": "python",
   "pygments_lexer": "ipython3",
   "version": "3.7.7"
  }
 },
 "nbformat": 4,
 "nbformat_minor": 4
}
